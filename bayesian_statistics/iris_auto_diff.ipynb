{
 "cells": [
  {
   "cell_type": "markdown",
   "metadata": {},
   "source": [
    "# <center> Using automatic Differentiation to compute Sigma </center>\n",
    "\n",
    "We will make a demonstration on how to use automatic differenciation in order to compute $\\sigma$ for arbitrary neural networks structures. Due to computation limitation we will only show how to compute one $\\sigma$ for the Iris dataset that comprises 150 observations and 3 variables. The code is valid for bigger networks and datasets but would necessitate more powerful computers than the one we currently have. Automatic differienciation is done by using **Tensorflow** framework."
   ]
  },
  {
   "cell_type": "markdown",
   "metadata": {},
   "source": [
    "We first inport the functions we will need. We use Keras (and tensorflow) for neural networks. We load Iris dataset from scikit-learn. We define a batch size of 1 for our network, we predict 3 classes (the type of flower setosa, versicolor and virginica). We will run 20 epochs."
   ]
  },
  {
   "cell_type": "code",
   "execution_count": 1,
   "metadata": {
    "collapsed": false
   },
   "outputs": [
    {
     "name": "stderr",
     "output_type": "stream",
     "text": [
      "Using TensorFlow backend.\n"
     ]
    }
   ],
   "source": [
    "from __future__ import print_function\n",
    "\n",
    "import keras\n",
    "import keras.backend as K\n",
    "from keras.datasets import mnist\n",
    "from keras.models import Sequential\n",
    "from keras.layers import Dense, Dropout\n",
    "from keras.optimizers import RMSprop\n",
    "\n",
    "from sklearn.model_selection import train_test_split\n",
    "from sklearn.datasets import load_iris\n",
    "\n",
    "import numpy as np\n",
    "import tensorflow as tf\n",
    "\n",
    "batch_size = 1\n",
    "num_classes = 3\n",
    "epochs = 20\n"
   ]
  },
  {
   "cell_type": "markdown",
   "metadata": {},
   "source": [
    "We load Iris data."
   ]
  },
  {
   "cell_type": "code",
   "execution_count": 40,
   "metadata": {
    "collapsed": false
   },
   "outputs": [],
   "source": [
    "\n",
    "\n",
    "data = load_iris()['data']\n",
    "targets = load_iris()['target']\n",
    "target_names = load_iris()['target_names']"
   ]
  },
  {
   "cell_type": "markdown",
   "metadata": {
    "collapsed": false
   },
   "source": [
    "We make the necessary preprocessing for Keras."
   ]
  },
  {
   "cell_type": "code",
   "execution_count": 41,
   "metadata": {
    "collapsed": false
   },
   "outputs": [
    {
     "name": "stdout",
     "output_type": "stream",
     "text": [
      "100 train samples\n",
      "50 test samples\n"
     ]
    }
   ],
   "source": [
    "# the data, shuffled and split between train and test sets\n",
    "x_train, x_test, y_train, y_test = train_test_split(data, targets, test_size=0.33)\n",
    "print(x_train.shape[0], 'train samples')\n",
    "print(x_test.shape[0], 'test samples')\n",
    "\n",
    "# convert class vectors to binary class matrices\n",
    "y_train = keras.utils.to_categorical(y_train, num_classes)\n",
    "y_test = keras.utils.to_categorical(y_test, num_classes)"
   ]
  },
  {
   "cell_type": "markdown",
   "metadata": {},
   "source": [
    "We compile our network. We get an accuracy of 0.6 which is not very good but sufficient for our proof of concept."
   ]
  },
  {
   "cell_type": "code",
   "execution_count": 42,
   "metadata": {
    "collapsed": false,
    "scrolled": false
   },
   "outputs": [
    {
     "name": "stdout",
     "output_type": "stream",
     "text": [
      "_________________________________________________________________\n",
      "Layer (type)                 Output Shape              Param #   \n",
      "=================================================================\n",
      "dense_5 (Dense)              (None, 4)                 20        \n",
      "_________________________________________________________________\n",
      "dense_6 (Dense)              (None, 3)                 15        \n",
      "=================================================================\n",
      "Total params: 35\n",
      "Trainable params: 35\n",
      "Non-trainable params: 0\n",
      "_________________________________________________________________\n",
      "Train on 100 samples, validate on 50 samples\n",
      "Epoch 1/20\n",
      "100/100 [==============================] - 5s 51ms/step - loss: 0.2449 - acc: 0.5800 - val_loss: 0.2185 - val_acc: 0.6000\n",
      "Epoch 2/20\n",
      "100/100 [==============================] - 0s 1ms/step - loss: 0.2094 - acc: 0.6700 - val_loss: 0.2052 - val_acc: 0.5800\n",
      "Epoch 3/20\n",
      "100/100 [==============================] - 0s 1ms/step - loss: 0.1982 - acc: 0.5800 - val_loss: 0.1966 - val_acc: 0.6000\n",
      "Epoch 4/20\n",
      "100/100 [==============================] - 0s 1ms/step - loss: 0.1887 - acc: 0.7000 - val_loss: 0.1933 - val_acc: 0.4600\n",
      "Epoch 5/20\n",
      "100/100 [==============================] - 0s 1ms/step - loss: 0.1805 - acc: 0.6100 - val_loss: 0.1841 - val_acc: 0.5800\n",
      "Epoch 6/20\n",
      "100/100 [==============================] - 0s 1ms/step - loss: 0.1705 - acc: 0.6000 - val_loss: 0.1768 - val_acc: 0.6000\n",
      "Epoch 7/20\n",
      "100/100 [==============================] - 0s 1ms/step - loss: 0.1625 - acc: 0.6800 - val_loss: 0.1706 - val_acc: 0.5800\n",
      "Epoch 8/20\n",
      "100/100 [==============================] - 0s 1ms/step - loss: 0.1545 - acc: 0.6800 - val_loss: 0.1641 - val_acc: 0.5800\n",
      "Epoch 9/20\n",
      "100/100 [==============================] - 0s 1ms/step - loss: 0.1466 - acc: 0.6800 - val_loss: 0.1593 - val_acc: 0.5800\n",
      "Epoch 10/20\n",
      "100/100 [==============================] - 0s 1ms/step - loss: 0.1399 - acc: 0.6900 - val_loss: 0.1532 - val_acc: 0.5800\n",
      "Epoch 11/20\n",
      "100/100 [==============================] - 0s 1ms/step - loss: 0.1336 - acc: 0.6900 - val_loss: 0.1477 - val_acc: 0.5800\n",
      "Epoch 12/20\n",
      "100/100 [==============================] - 0s 1ms/step - loss: 0.1282 - acc: 0.6600 - val_loss: 0.1428 - val_acc: 0.6000\n",
      "Epoch 13/20\n",
      "100/100 [==============================] - 0s 1ms/step - loss: 0.1240 - acc: 0.6900 - val_loss: 0.1395 - val_acc: 0.6000\n",
      "Epoch 14/20\n",
      "100/100 [==============================] - 0s 1ms/step - loss: 0.1197 - acc: 0.7000 - val_loss: 0.1369 - val_acc: 0.5800\n",
      "Epoch 15/20\n",
      "100/100 [==============================] - 0s 1ms/step - loss: 0.1181 - acc: 0.7000 - val_loss: 0.1342 - val_acc: 0.5800\n",
      "Epoch 16/20\n",
      "100/100 [==============================] - 0s 1ms/step - loss: 0.1161 - acc: 0.7000 - val_loss: 0.1325 - val_acc: 0.5800\n",
      "Epoch 17/20\n",
      "100/100 [==============================] - 0s 1ms/step - loss: 0.1150 - acc: 0.6800 - val_loss: 0.1313 - val_acc: 0.6000\n",
      "Epoch 18/20\n",
      "100/100 [==============================] - 0s 1ms/step - loss: 0.1139 - acc: 0.6300 - val_loss: 0.1306 - val_acc: 0.6000\n",
      "Epoch 19/20\n",
      "100/100 [==============================] - 0s 1ms/step - loss: 0.1132 - acc: 0.6900 - val_loss: 0.1297 - val_acc: 0.6000\n",
      "Epoch 20/20\n",
      "100/100 [==============================] - 0s 1ms/step - loss: 0.1128 - acc: 0.6600 - val_loss: 0.1295 - val_acc: 0.6000\n",
      "Test loss: 0.12950145185\n",
      "Test accuracy: 0.600000007153\n"
     ]
    }
   ],
   "source": [
    "K.set_learning_phase(1)\n",
    "model = Sequential()\n",
    "model.add(Dense(4, activation='sigmoid', input_shape=(4,)))\n",
    "\n",
    "model.add(Dense(num_classes, activation=\"linear\"))\n",
    "\n",
    "model.summary()\n",
    "\n",
    "\n",
    "model.compile(loss='mean_squared_error',\n",
    "              optimizer=RMSprop(),\n",
    "              metrics=['accuracy'])\n",
    "\n",
    "history = model.fit(x_train, y_train,\n",
    "                    batch_size=batch_size,\n",
    "                    epochs=epochs,\n",
    "                    verbose=1,\n",
    "                    validation_data=(x_test, y_test))\n",
    "score = model.evaluate(x_test, y_test, verbose=0)\n",
    "print('Test loss:', score[0])\n",
    "print('Test accuracy:', score[1])"
   ]
  },
  {
   "cell_type": "markdown",
   "metadata": {},
   "source": [
    "We define a function to compute the hessian of the loss. It will do it automatically by auto differentiation."
   ]
  },
  {
   "cell_type": "code",
   "execution_count": 43,
   "metadata": {
    "collapsed": false
   },
   "outputs": [],
   "source": [
    "def compute_hessian(model, x_sample, y_sample):\n",
    "    # weight tensors\n",
    "    weights = model.trainable_weights\n",
    "    nb_params = sum([layer.count_params() for layer in model.layers])\n",
    "    weights = [weight for weight in weights if model.get_layer(weight.name[:-2].split(\"/\")[0]).trainable] # filter down weights tensors to only ones which are trainable\n",
    "    weights_flat =([tf.reshape(w, [-1]) for w in weights])\n",
    "    gradients =  tf.concat(\n",
    "        [tf.reshape(g, [-1,1]) for g in model.optimizer.get_gradients(model.total_loss, weights)],0\n",
    "    )\n",
    "\n",
    "    hessians = tf.stack([tf.concat([tf.reshape(h,[-1,1]) for h in K.gradients(gradients[n], weights)],0)[n]\n",
    "                for n in range(nb_params)])\n",
    "    input_tensors = [model.inputs[0], # input data\n",
    "                     model.sample_weights[0], # how much to weight each sample by\n",
    "                     model.targets[0], # labels\n",
    "                     K.learning_phase(), # train or test mode\n",
    "    ]\n",
    "\n",
    "    get_gradients = K.function(inputs=input_tensors, outputs=[hessians])\n",
    "\n",
    "    inputs = [x_sample, # X\n",
    "              np.ones(len(x_sample)), # sample weights\n",
    "              y_sample # Y\n",
    "    ]\n",
    "\n",
    "    \n",
    "    \n",
    "    return get_gradients(inputs)[0]\n"
   ]
  },
  {
   "cell_type": "code",
   "execution_count": 44,
   "metadata": {
    "collapsed": false,
    "scrolled": true
   },
   "outputs": [],
   "source": [
    "hessian = compute_hessian(model, x_train, y_train)\n",
    "hessian = hessian.reshape(-1)"
   ]
  },
  {
   "cell_type": "markdown",
   "metadata": {},
   "source": [
    "We then make a function to differentiate outputs with respect to weights. This function is really slow for this small example probably because it makes the gradient difficult to compute."
   ]
  },
  {
   "cell_type": "code",
   "execution_count": 45,
   "metadata": {
    "collapsed": false
   },
   "outputs": [],
   "source": [
    "def evaluate_output_j_gradients_wrt_weights(model, trainingExample, j):\n",
    "    outputTensor = model.output[:,j]\n",
    "    listOfVariableTensors = model.trainable_weights\n",
    "\n",
    "    gradients = K.gradients(outputTensor, listOfVariableTensors)\n",
    "    \n",
    "    sess = tf.InteractiveSession()\n",
    "    sess.run(tf.initialize_all_variables())\n",
    "    evaluated_gradients = sess.run(gradients,feed_dict={model.input:trainingExample})\n",
    "    return evaluated_gradients\n",
    "\n",
    "def evaluate_output_gradients_wrt_weights(model, trainingExample):\n",
    "    return [evaluate_output_j_gradients_wrt_weights(model, trainingExample, j) for j in range(3)]"
   ]
  },
  {
   "cell_type": "code",
   "execution_count": 66,
   "metadata": {
    "collapsed": false
   },
   "outputs": [],
   "source": [
    "gradients = evaluate_output_gradients_wrt_weights(model, x_train[0].reshape(1,4))"
   ]
  },
  {
   "cell_type": "code",
   "execution_count": 67,
   "metadata": {
    "collapsed": false
   },
   "outputs": [],
   "source": [
    "gradients_flat = [\n",
    "    np.concatenate(\n",
    "        [np.array([b**2 for b in list(a)]).reshape(-1) for a in g]\n",
    "    ) \n",
    "    for g in gradients]"
   ]
  },
  {
   "cell_type": "markdown",
   "metadata": {},
   "source": [
    "We finally get the values for sigma with the formula $$sigma_i = \\sum_{i}{\\frac{{\\gamma_i}}{\\beta*\\sum_{I}{h_{ii}}}}$$.\n",
    "\n",
    "And we choose $\\beta$ = 10 arbitrarily."
   ]
  },
  {
   "cell_type": "code",
   "execution_count": 74,
   "metadata": {
    "collapsed": false
   },
   "outputs": [
    {
     "data": {
      "text/plain": [
       "[2.1756890623553709, 2.0553389314226469, 2.0066627327254971]"
      ]
     },
     "execution_count": 74,
     "metadata": {},
     "output_type": "execute_result"
    }
   ],
   "source": [
    "from __future__ import division\n",
    "[np.sum(g/(10*hessian)) for g in gradients_flat]"
   ]
  },
  {
   "cell_type": "markdown",
   "metadata": {},
   "source": [
    "This demonstration would need more investigation but we could not experiment in bigger networks."
   ]
  },
  {
   "cell_type": "markdown",
   "metadata": {
    "collapsed": true
   },
   "source": [
    "In absence of any ways of determining $\\beta$ it is very difficult to compute sigma accurately. We find that here we would probably need a bigger value for beta in order to have meaningful values of $\\sigma$."
   ]
  },
  {
   "cell_type": "code",
   "execution_count": null,
   "metadata": {
    "collapsed": true
   },
   "outputs": [],
   "source": []
  }
 ],
 "metadata": {
  "anaconda-cloud": {},
  "kernelspec": {
   "display_name": "Python [conda root]",
   "language": "python",
   "name": "conda-root-py"
  },
  "language_info": {
   "codemirror_mode": {
    "name": "ipython",
    "version": 2
   },
   "file_extension": ".py",
   "mimetype": "text/x-python",
   "name": "python",
   "nbconvert_exporter": "python",
   "pygments_lexer": "ipython2",
   "version": "2.7.12"
  }
 },
 "nbformat": 4,
 "nbformat_minor": 1
}
